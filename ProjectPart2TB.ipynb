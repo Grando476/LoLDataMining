{
 "cells": [
  {
   "cell_type": "markdown",
   "id": "b5353f2a",
   "metadata": {},
   "source": [
    "Let's try with some Random Forest as a first classifier"
   ]
  },
  {
   "cell_type": "markdown",
   "id": "068a8101",
   "metadata": {},
   "source": [
    "Firsly we must import libraries witch will be used to build our model. We will use sklearn as it is well built and we have some experience with using it. Also plotting libraries will be included"
   ]
  },
  {
   "cell_type": "code",
   "execution_count": 2,
   "id": "aed73241",
   "metadata": {},
   "outputs": [],
   "source": [
    "from sklearn.ensemble import RandomForestClassifier\n",
    "from sklearn.model_selection import train_test_split\n",
    "from sklearn.metrics import classification_report, confusion_matrix, accuracy_score\n",
    "import seaborn as sns\n",
    "import matplotlib.pyplot as plt\n",
    "import pandas as pd\n"
   ]
  },
  {
   "cell_type": "markdown",
   "id": "808f73ba",
   "metadata": {},
   "source": [
    "Then we perform some dropping of the redundant colums. Why them and what they value mean is specifically mentioned in the first part of the raport."
   ]
  },
  {
   "cell_type": "code",
   "execution_count": 3,
   "id": "ca224b0e",
   "metadata": {},
   "outputs": [],
   "source": [
    "url = 'https://raw.githubusercontent.com/Grando476/LoLDataMining/refs/heads/main/high_diamond_ranked_10min.csv'\n",
    "\n",
    "df = pd.read_csv(url)\n",
    "df = df.drop(columns=['gameId'])\n",
    "\n",
    "y = df['blueWins']\n",
    "\n",
    "X = df.drop('blueWins', axis=1)\n"
   ]
  }
 ],
 "metadata": {
  "kernelspec": {
   "display_name": "Python 3",
   "language": "python",
   "name": "python3"
  },
  "language_info": {
   "codemirror_mode": {
    "name": "ipython",
    "version": 3
   },
   "file_extension": ".py",
   "mimetype": "text/x-python",
   "name": "python",
   "nbconvert_exporter": "python",
   "pygments_lexer": "ipython3",
   "version": "3.11.9"
  }
 },
 "nbformat": 4,
 "nbformat_minor": 5
}
